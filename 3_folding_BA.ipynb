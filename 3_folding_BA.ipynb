{
 "cells": [
  {
   "cell_type": "code",
   "execution_count": 26,
   "metadata": {},
   "outputs": [],
   "source": [
    "quantization_WA = \"2W2A\""
   ]
  },
  {
   "cell_type": "code",
   "execution_count": 31,
   "metadata": {},
   "outputs": [
    {
     "name": "stdout",
     "output_type": "stream",
     "text": [
      "/tmp/home_dir\n"
     ]
    }
   ],
   "source": [
    "cd"
   ]
  },
  {
   "cell_type": "markdown",
   "metadata": {},
   "source": [
    "# FINN - Folding\n",
    "--------------------------------------\n",
    "**Note: We will utilize one of the intermediate models generated in the process of the cybersecurity end2end example**\n",
    "\n",
    "There is a local copy of `step_specialize_layers.onnx` in this directory, which was renamed to `cybsec_PE_SIMD.onnx` to be able to go through this tutorial without requisites. But you can also generate it yourself with the [third cybersecurity Jupyter notebook](../end2end_example/cybersecurity/3-build-accelerator-with-finn.ipynb). After the execution of the estimates only build flow, it can be found in `../end2end_example/cybersecurity/output_estimates_only/intermediate_models/step_specialize_layers.onnx`. \n",
    "\n",
    "This notebook describes the use of FINN parallelization parameters (PE & SIMD), also called folding factors, to efficiently optimize models so as to extract the maximum performance out of them. \n",
    "\n",
    "Please be aware that the folding factors can not be selected arbitrarily, each layer has constraints on which values the parallelization parameters can be set to, for more information see here: https://finn-dev.readthedocs.io/en/latest/internals.html#constraints-to-folding-factors-per-layer\n",
    "\n",
    "We'll use the utility function `showInNetron()` to visualize and interact with our network in the Jupyter Notebook and `showSrc()` to show source code of FINN library calls."
   ]
  },
  {
   "cell_type": "code",
   "execution_count": 10,
   "metadata": {},
   "outputs": [],
   "source": [
    "from finn.util.visualization import showInNetron, showSrc"
   ]
  },
  {
   "cell_type": "markdown",
   "metadata": {},
   "source": [
    "Note: The build_flow in the cybsec_mlp notebook comprises a transformation step `step_target_fps_parallelization` that automatically sets custom parallelization parameters needed to achieve a given `target_fps` by invoking the [`SetFolding` transformation](https://github.com/Xilinx/finn/blob/main/src/finn/transformation/fpgadataflow/set_folding.py#L46).\n",
    "\n",
    "More details of the above step can be found [here](https://github.com/Xilinx/finn/blob/main/src/finn/builder/build_dataflow_steps.py#L394)."
   ]
  },
  {
   "cell_type": "markdown",
   "metadata": {},
   "source": [
    "This notebook shows the manual version of this step and explains how these attributes can improve performance and what are their effects on resource utilization for developers who need to maximize the performance of their network. \n",
    "\n",
    "For that we will use the `cybsec_PE_SIMD.onnx` file as starting point. This intermediate model from the cybersecurity example is the model representation after the high-level ONNX layers are converted to HW layers and then specialized to either HLS or RTL variants. In this example, all nodes were converted to HLS variants this means that each node in the graph now corresponds to an HLS C++ function call and the parallelization parameters can be set using the node attributes.\n",
    "\n",
    "We will take this model to show how to set the folding factors manually and analyze the estimated execution clock cycles and the resource utilization of each layer in the network."
   ]
  },
  {
   "cell_type": "markdown",
   "metadata": {},
   "source": [
    "### FINN-style Dataflow Architectures <a id='dataflow_arch'></a>\n",
    "\n",
    "We start with a quick recap of FINN-style dataflow architectures. The key idea in such architectures is to parallelize across layers as well as within layers by dedicating a proportionate amount of compute resources to each layer, as illustrated in the figure below.\n",
    "\n",
    "![](finn-dataflow.png)\n",
    "\n",
    "In practice, the layers are instantiated by function calls to optimized Vitis HLS building blocks from the [finn-hlslib](https://github.com/Xilinx/finn-hlslib) library or by RTL modules from the [finn-rtllib](https://github.com/Xilinx/finn/tree/main/finn-rtllib).\n",
    "\n",
    "Since each layer will be instantiated, we can flexibly set the parallelization of each layer and thus control resources and throughput of our network, as visualized in the image below:\n",
    "\n",
    "![](finn-folding.png)"
   ]
  },
  {
   "cell_type": "markdown",
   "metadata": {},
   "source": [
    "# Part-1 : Loading the ONNX model.\n",
    "\n",
    "As discussed above, the network needs to go through a few preparation steps before it can be fed into our estimation functions.\n",
    "\n",
    "The `.onnx` file loaded here is taken from the cybersecurity end2end example notebook. \n",
    "We pick the onnx file `cybsec_PE_SIMD.onnx` to which the necessary transformations have been applied for this notebook. This means, network layers mapped to necessary FINN-HW blocks. In this case, the HLS variants of MatrixVectorActivation, `MVAU_hls` units. \n",
    "\n",
    "To interact with the `.onnx` file we use `ModelWrapper()`. This wrapper simplifies the access to different model attributes and allows us to apply custom transformations on the model.\n",
    "\n",
    "In the below cell, we load our onnx file and view the cybersecurity MLP network in Netron. Additionally, we call the transformation `GiveUniqueNodeNames` as a preparation."
   ]
  },
  {
   "cell_type": "code",
   "execution_count": 11,
   "metadata": {},
   "outputs": [
    {
     "name": "stdout",
     "output_type": "stream",
     "text": [
      "Stopping http://0.0.0.0:8081\n",
      "Serving '/home/ba/Xilinx/finn-0v10/finn/notebooks/batuhan/output_ipstitch_ooc_rtlsim_2W2A/intermediate_models/custom_PE_SIMD_2W2A.onnx' at http://0.0.0.0:8081\n"
     ]
    },
    {
     "data": {
      "text/html": [
       "\n",
       "        <iframe\n",
       "            width=\"100%\"\n",
       "            height=\"400\"\n",
       "            src=\"http://localhost:8081/\"\n",
       "            frameborder=\"0\"\n",
       "            allowfullscreen\n",
       "            \n",
       "        ></iframe>\n",
       "        "
      ],
      "text/plain": [
       "<IPython.lib.display.IFrame at 0x759cec9df4c0>"
      ]
     },
     "execution_count": 11,
     "metadata": {},
     "output_type": "execute_result"
    }
   ],
   "source": [
    "import os\n",
    "from qonnx.core.modelwrapper import ModelWrapper\n",
    "from qonnx.transformation.general import GiveUniqueNodeNames\n",
    "\n",
    "model = ModelWrapper(os.environ[\"FINN_ROOT\"] + f\"/notebooks/batuhan/output_ipstitch_ooc_rtlsim_{quantization_WA}/intermediate_models/step_specialize_layers.onnx\")\n",
    "model = model.transform(GiveUniqueNodeNames())\n",
    "model_path = os.environ[\"FINN_ROOT\"] + f\"/notebooks/batuhan/output_ipstitch_ooc_rtlsim_{quantization_WA}/intermediate_models/custom_PE_SIMD_{quantization}.onnx\"\n",
    "model.save(model_path)\n",
    "\n",
    "showInNetron(model_path)"
   ]
  },
  {
   "cell_type": "markdown",
   "metadata": {},
   "source": [
    "# Part 2 : Parallelization Parameters: PE & SIMD"
   ]
  },
  {
   "cell_type": "markdown",
   "metadata": {},
   "source": [
    "The computational parallelism can be varied by setting the folding factors or also called parallelization parameters **PE** and **SIMD** of each layer. These parallelization attributes are subject to certain constraints and should be selected accordingly.\n",
    "\n",
    "To see more details about how this is implemented in the HLS variant of the MatrixVectorActivation layer (`MVAU_hls`), please have a look at [this documentation](https://github.com/Xilinx/finn/blob/github-pages/docs/finn-sheduling-and-folding.pptx). A schematic of the folding in an MVAU for a fully-connected layer is shown below:\n",
    "\n",
    "![](finn-folding-mvau.png)"
   ]
  },
  {
   "cell_type": "markdown",
   "metadata": {},
   "source": [
    "In the case of the MVAU, `PE` & `SIMD` are subject to the following constraints: \n",
    "\n",
    "If `MW` is the number of input features and `MH` the number of output features:\n",
    "\n",
    "        MW % SIMD == 0\n",
    "        MH % PE == 0\n",
    "        \n",
    "Total folding in the case of the MVAU is defined as:\n",
    "\n",
    "    Total folding = (MH/PE) x (MW/SIMD)\n",
    "\n",
    "In a streaming dataflow architecture like it is in FINN designs the throughput is determined by the slowest layer. So, the goal of adjusting these parameters is to get an almost balanced pipeline i.e. equalizing the throughput rate of layers in the generated dataflow architecture.\n",
    "\n",
    "The FINN compiler provides analysis passes to facilitate the exploration of the folding factors of each layer. In this notebook we will show how to use these functions and explore how the parallelization parameters affect the clock cycles and the resource utilization of the generated dataflow architecture.\n",
    "\n",
    "We start with a naive case where `PE` & `SIMD` values across all layers are 1, this is the starting point of our exploration and is also the state the network is in after the conversion to HLS layers. If you take a look at the model using Netron and click on one of the MVAU layers, you can see that `PE` and `SIMD` are both set to 1 by default."
   ]
  },
  {
   "cell_type": "code",
   "execution_count": 12,
   "metadata": {},
   "outputs": [
    {
     "name": "stdout",
     "output_type": "stream",
     "text": [
      "Stopping http://0.0.0.0:8081\n",
      "Serving '/home/ba/Xilinx/finn-0v10/finn/notebooks/batuhan/output_ipstitch_ooc_rtlsim_2W2A/intermediate_models/custom_PE_SIMD_2W2A.onnx' at http://0.0.0.0:8081\n"
     ]
    },
    {
     "data": {
      "text/html": [
       "\n",
       "        <iframe\n",
       "            width=\"100%\"\n",
       "            height=\"400\"\n",
       "            src=\"http://localhost:8081/\"\n",
       "            frameborder=\"0\"\n",
       "            allowfullscreen\n",
       "            \n",
       "        ></iframe>\n",
       "        "
      ],
      "text/plain": [
       "<IPython.lib.display.IFrame at 0x759d4820b280>"
      ]
     },
     "execution_count": 12,
     "metadata": {},
     "output_type": "execute_result"
    }
   ],
   "source": [
    "showInNetron(model_path)"
   ]
  },
  {
   "cell_type": "markdown",
   "metadata": {},
   "source": [
    "We import the analysis passes  `exp_cycles_per_layer()` and  `res_estimation()` to estimate the number of clock cycles and resource utilization of each network layer."
   ]
  },
  {
   "cell_type": "code",
   "execution_count": 13,
   "metadata": {},
   "outputs": [],
   "source": [
    "from finn.analysis.fpgadataflow.exp_cycles_per_layer import exp_cycles_per_layer\n",
    "from finn.analysis.fpgadataflow.res_estimation import res_estimation"
   ]
  },
  {
   "cell_type": "markdown",
   "metadata": {},
   "source": [
    "Analysis passes in FINN return information about the model in form of a dictionary, you can learn more about analysis passes in general in this Jupyter notebook: [0_custom_analysis_pass.ipynb](0_custom_analysis_pass.ipynb).\n",
    "\n",
    "We start by calling the analysis pass `exp_cycles_per_layer()`, which returns a dictionary with the layer names as keys and the expected cycles as values. Afterwards, we plot the result in a block diagram."
   ]
  },
  {
   "cell_type": "code",
   "execution_count": 14,
   "metadata": {},
   "outputs": [
    {
     "name": "stderr",
     "output_type": "stream",
     "text": [
      "/home/ba/Xilinx/finn-0v10/finn/src/finn/custom_op/fpgadataflow/streamingmaxpool.py:139: UserWarning: Estimated latency for layer StreamingMaxPool_hls_0 can be lower than\n",
      "             actual latency!\n",
      "  warnings.warn(\n",
      "/home/ba/Xilinx/finn-0v10/finn/src/finn/custom_op/fpgadataflow/streamingmaxpool.py:139: UserWarning: Estimated latency for layer StreamingMaxPool_hls_1 can be lower than\n",
      "             actual latency!\n",
      "  warnings.warn(\n"
     ]
    },
    {
     "data": {
      "text/plain": [
       "{'ConvolutionInputGenerator_rtl_0': 8167,\n",
       " 'MVAU_hls_0': 1555200,\n",
       " 'ConvolutionInputGenerator_rtl_1': 7119,\n",
       " 'MVAU_hls_1': 28901376,\n",
       " 'StreamingMaxPool_hls_0': 980,\n",
       " 'ConvolutionInputGenerator_rtl_2': 1327,\n",
       " 'MVAU_hls_2': 10616832,\n",
       " 'ConvolutionInputGenerator_rtl_3': 927,\n",
       " 'MVAU_hls_3': 14745600,\n",
       " 'StreamingMaxPool_hls_1': 125,\n",
       " 'ConvolutionInputGenerator_rtl_4': 94,\n",
       " 'MVAU_hls_4': 2654208,\n",
       " 'MVAU_hls_5': 1179648,\n",
       " 'MVAU_hls_6': 262144,\n",
       " 'MVAU_hls_7': 5120}"
      ]
     },
     "execution_count": 14,
     "metadata": {},
     "output_type": "execute_result"
    }
   ],
   "source": [
    "cycles_dict = model.analysis(exp_cycles_per_layer)\n",
    "cycles_dict"
   ]
  },
  {
   "cell_type": "code",
   "execution_count": 15,
   "metadata": {},
   "outputs": [
    {
     "data": {
      "image/png": "[encoded data removed]",
      "text/plain": [
       "<Figure size 1000x500 with 1 Axes>"
      ]
     },
     "metadata": {},
     "output_type": "display_data"
    }
   ],
   "source": [
    "import matplotlib.pyplot as plt\n",
    "\n",
    "fig = plt.figure(figsize = (10, 5))\n",
    "plt.bar(cycles_dict.keys(), cycles_dict.values(), color ='blue', width = 0.3)\n",
    "plt.xlabel(\"Network layers\")\n",
    "plt.ylabel(\"Number of clock cycles\")\n",
    "plt.title(\"Clock cycles per layer PE=SIMD=1\")\n",
    "plt.show()"
   ]
  },
  {
   "cell_type": "markdown",
   "metadata": {},
   "source": [
    "We observe that the bottleneck in the execution of the model on hardware would come from the execution of the first layer which takes estimated 38400 clock cycles to execute one set of its inputs.\n",
    "\n",
    "No matter how quickly the other layers execute, the throughput will be defined by the first layer's execution latency.\n",
    "\n",
    "Let's have a look now at the estimated resources per layer by calling another analysis pass.\n",
    "The keys are again the layer names, but the values are now a dictionary with the resource estimates per layer."
   ]
  },
  {
   "cell_type": "markdown",
   "metadata": {},
   "source": [
    "In my CIFAR10 dataset & CNV network case, MVAU_hls_1': 28.901.376 is the bottleneck"
   ]
  },
  {
   "cell_type": "code",
   "execution_count": 16,
   "metadata": {},
   "outputs": [
    {
     "name": "stderr",
     "output_type": "stream",
     "text": [
      "/home/ba/Xilinx/finn-0v10/finn/src/finn/custom_op/fpgadataflow/streamingmaxpool.py:139: UserWarning: Estimated latency for layer StreamingMaxPool_hls_0 can be lower than\n",
      "             actual latency!\n",
      "  warnings.warn(\n",
      "/home/ba/Xilinx/finn-0v10/finn/src/finn/custom_op/fpgadataflow/streamingmaxpool.py:139: UserWarning: Estimated latency for layer StreamingMaxPool_hls_1 can be lower than\n",
      "             actual latency!\n",
      "  warnings.warn(\n"
     ]
    },
    {
     "data": {
      "text/plain": [
       "{'ConvolutionInputGenerator_rtl_0': 8167,\n",
       " 'MVAU_hls_0': 1555200,\n",
       " 'ConvolutionInputGenerator_rtl_1': 7119,\n",
       " 'MVAU_hls_1': 28901376,\n",
       " 'StreamingMaxPool_hls_0': 980,\n",
       " 'ConvolutionInputGenerator_rtl_2': 1327,\n",
       " 'MVAU_hls_2': 10616832,\n",
       " 'ConvolutionInputGenerator_rtl_3': 927,\n",
       " 'MVAU_hls_3': 14745600,\n",
       " 'StreamingMaxPool_hls_1': 125,\n",
       " 'ConvolutionInputGenerator_rtl_4': 94,\n",
       " 'MVAU_hls_4': 2654208,\n",
       " 'MVAU_hls_5': 1179648,\n",
       " 'MVAU_hls_6': 262144,\n",
       " 'MVAU_hls_7': 5120}"
      ]
     },
     "execution_count": 16,
     "metadata": {},
     "output_type": "execute_result"
    }
   ],
   "source": [
    "cycles_dict = model.analysis(exp_cycles_per_layer)\n",
    "cycles_dict"
   ]
  },
  {
   "cell_type": "code",
   "execution_count": 17,
   "metadata": {},
   "outputs": [
    {
     "data": {
      "text/plain": [
       "{'ConvolutionInputGenerator_rtl_0': {'BRAM_18K': 0,\n",
       "  'BRAM_efficiency': 1,\n",
       "  'LUT': 348,\n",
       "  'URAM': 0,\n",
       "  'URAM_efficiency': 1,\n",
       "  'DSP': 0},\n",
       " 'MVAU_hls_0': {'BRAM_18K': 1,\n",
       "  'BRAM_efficiency': 0.1875,\n",
       "  'LUT': 359,\n",
       "  'URAM': 0,\n",
       "  'URAM_efficiency': 1,\n",
       "  'DSP': 0},\n",
       " 'ConvolutionInputGenerator_rtl_1': {'BRAM_18K': 0,\n",
       "  'BRAM_efficiency': 1,\n",
       "  'LUT': 556,\n",
       "  'URAM': 0,\n",
       "  'URAM_efficiency': 1,\n",
       "  'DSP': 0},\n",
       " 'MVAU_hls_1': {'BRAM_18K': 5,\n",
       "  'BRAM_efficiency': 0.8,\n",
       "  'LUT': 323,\n",
       "  'URAM': 0,\n",
       "  'URAM_efficiency': 1,\n",
       "  'DSP': 0},\n",
       " 'StreamingMaxPool_hls_0': {'BRAM_18K': 0,\n",
       "  'BRAM_efficiency': 1,\n",
       "  'LUT': 0,\n",
       "  'URAM': 0,\n",
       "  'URAM_efficiency': 1,\n",
       "  'DSP': 0},\n",
       " 'ConvolutionInputGenerator_rtl_2': {'BRAM_18K': 0,\n",
       "  'BRAM_efficiency': 1,\n",
       "  'LUT': 428,\n",
       "  'URAM': 0,\n",
       "  'URAM_efficiency': 1,\n",
       "  'DSP': 0},\n",
       " 'MVAU_hls_2': {'BRAM_18K': 9,\n",
       "  'BRAM_efficiency': 0.8888888888888888,\n",
       "  'LUT': 323,\n",
       "  'URAM': 0,\n",
       "  'URAM_efficiency': 1,\n",
       "  'DSP': 0},\n",
       " 'ConvolutionInputGenerator_rtl_3': {'BRAM_18K': 0,\n",
       "  'BRAM_efficiency': 1,\n",
       "  'LUT': 556,\n",
       "  'URAM': 0,\n",
       "  'URAM_efficiency': 1,\n",
       "  'DSP': 0},\n",
       " 'MVAU_hls_3': {'BRAM_18K': 18,\n",
       "  'BRAM_efficiency': 0.8888888888888888,\n",
       "  'LUT': 324,\n",
       "  'URAM': 0,\n",
       "  'URAM_efficiency': 1,\n",
       "  'DSP': 0},\n",
       " 'StreamingMaxPool_hls_1': {'BRAM_18K': 0,\n",
       "  'BRAM_efficiency': 1,\n",
       "  'LUT': 0,\n",
       "  'URAM': 0,\n",
       "  'URAM_efficiency': 1,\n",
       "  'DSP': 0},\n",
       " 'ConvolutionInputGenerator_rtl_4': {'BRAM_18K': 0,\n",
       "  'BRAM_efficiency': 1,\n",
       "  'LUT': 556,\n",
       "  'URAM': 0,\n",
       "  'URAM_efficiency': 1,\n",
       "  'DSP': 0},\n",
       " 'MVAU_hls_4': {'BRAM_18K': 36,\n",
       "  'BRAM_efficiency': 0.8888888888888888,\n",
       "  'LUT': 324,\n",
       "  'URAM': 0,\n",
       "  'URAM_efficiency': 1,\n",
       "  'DSP': 0},\n",
       " 'MVAU_hls_5': {'BRAM_18K': 144,\n",
       "  'BRAM_efficiency': 0.8888888888888888,\n",
       "  'LUT': 325,\n",
       "  'URAM': 0,\n",
       "  'URAM_efficiency': 1,\n",
       "  'DSP': 0},\n",
       " 'MVAU_hls_6': {'BRAM_18K': 32,\n",
       "  'BRAM_efficiency': 0.8888888888888888,\n",
       "  'LUT': 323,\n",
       "  'URAM': 0,\n",
       "  'URAM_efficiency': 1,\n",
       "  'DSP': 0},\n",
       " 'MVAU_hls_7': {'BRAM_18K': 1,\n",
       "  'BRAM_efficiency': 0.5555555555555556,\n",
       "  'LUT': 323,\n",
       "  'URAM': 0,\n",
       "  'URAM_efficiency': 1,\n",
       "  'DSP': 0}}"
      ]
     },
     "execution_count": 17,
     "metadata": {},
     "output_type": "execute_result"
    }
   ],
   "source": [
    "res_dict = model.analysis(res_estimation)\n",
    "res_dict"
   ]
  },
  {
   "cell_type": "markdown",
   "metadata": {},
   "source": [
    "Next to the absolute numbers of LUTs, BRAM, URAM and DSPs, the analysis pass also provides information about the efficiency of the memory usage. If the memory type is not utilized, the efficiency is by default 1. You can see that above for the `URAM_efficiency`. In all other cases the efficiency indicates the actual parameter storage needed divided by the allocated BRAM/URAM storage. So, this means in our example MVAU_hls_0 uses 5 block ram and they are 83% utilized. "
   ]
  },
  {
   "cell_type": "code",
   "execution_count": 27,
   "metadata": {},
   "outputs": [],
   "source": [
    "import json\n",
    "def read_json_dict(filename):\n",
    "    with open(filename, \"r\") as f:\n",
    "        ret = json.load(f)\n",
    "    return ret"
   ]
  },
  {
   "cell_type": "code",
   "execution_count": 43,
   "metadata": {},
   "outputs": [
    {
     "data": {
      "text/plain": [
       "{'MVAU_hls_0': {'BRAM_18K': '0',\n",
       "  'FF': '864',\n",
       "  'LUT': '936',\n",
       "  'DSP48E': 0,\n",
       "  'URAM': '0',\n",
       "  'DSP': '16'},\n",
       " 'MVAU_hls_1': {'BRAM_18K': '0',\n",
       "  'FF': '5314',\n",
       "  'LUT': '4585',\n",
       "  'DSP48E': 0,\n",
       "  'URAM': '0',\n",
       "  'DSP': '328'},\n",
       " 'StreamingMaxPool_hls_0': {'BRAM_18K': '0',\n",
       "  'FF': '450',\n",
       "  'LUT': '6554',\n",
       "  'DSP48E': 0,\n",
       "  'URAM': '0',\n",
       "  'DSP': '0'},\n",
       " 'MVAU_hls_2': {'BRAM_18K': '0',\n",
       "  'FF': '2660',\n",
       "  'LUT': '1527',\n",
       "  'DSP48E': 0,\n",
       "  'URAM': '0',\n",
       "  'DSP': '82'},\n",
       " 'MVAU_hls_3': {'BRAM_18K': '0',\n",
       "  'FF': '4717',\n",
       "  'LUT': '2606',\n",
       "  'DSP48E': 0,\n",
       "  'URAM': '0',\n",
       "  'DSP': '164'},\n",
       " 'StreamingMaxPool_hls_1': {'BRAM_18K': '0',\n",
       "  'FF': '825',\n",
       "  'LUT': '12816',\n",
       "  'DSP48E': 0,\n",
       "  'URAM': '0',\n",
       "  'DSP': '0'},\n",
       " 'MVAU_hls_4': {'BRAM_18K': '2',\n",
       "  'FF': '2900',\n",
       "  'LUT': '876',\n",
       "  'DSP48E': 0,\n",
       "  'URAM': '0',\n",
       "  'DSP': '17'},\n",
       " 'MVAU_hls_5': {'BRAM_18K': '4',\n",
       "  'FF': '4928',\n",
       "  'LUT': '3229',\n",
       "  'DSP48E': 0,\n",
       "  'URAM': '0',\n",
       "  'DSP': '6'},\n",
       " 'MVAU_hls_6': {'BRAM_18K': '2',\n",
       "  'FF': '1266',\n",
       "  'LUT': '1142',\n",
       "  'DSP48E': 0,\n",
       "  'URAM': '0',\n",
       "  'DSP': '3'},\n",
       " 'MVAU_hls_7': {'BRAM_18K': '0',\n",
       "  'FF': '1145',\n",
       "  'LUT': '3071',\n",
       "  'DSP48E': 0,\n",
       "  'URAM': '0',\n",
       "  'DSP': '1'}}"
      ]
     },
     "execution_count": 43,
     "metadata": {},
     "output_type": "execute_result"
    }
   ],
   "source": [
    "build_dir = os.environ['FINN_ROOT'] + \"/notebooks/batuhan\" \n",
    "read_json_dict(build_dir + f\"/output_ipstitch_ooc_rtlsim_{quantization_WA}/report/estimate_layer_resources_hls.json\")"
   ]
  },
  {
   "cell_type": "markdown",
   "metadata": {},
   "source": [
    "After we extract that information from the model, we plot the number of LUTs. In this notebook we concentrate on the influence on the LUT usage, but by manipulating the code below, you can also extract information about memory and dsp usage."
   ]
  },
  {
   "cell_type": "code",
   "execution_count": 44,
   "metadata": {},
   "outputs": [
    {
     "data": {
      "image/png": "[encoded data removed]",
      "text/plain": [
       "<Figure size 1000x500 with 1 Axes>"
      ]
     },
     "metadata": {},
     "output_type": "display_data"
    }
   ],
   "source": [
    "# Extracting LUTs from res_dict\n",
    "LUTs = [res_dict[key][\"LUT\"] for key in res_dict.keys()]   \n",
    "\n",
    "#Plotting the bar graph of each network layer with their corresponding LUT resource utilization\n",
    "fig = plt.figure(figsize = (10, 5))\n",
    "plt.bar(res_dict.keys(), LUTs, color ='green', width = 0.3)\n",
    "plt.xlabel(\"Network layers\")\n",
    "plt.ylabel(\"Number of LUTs\")\n",
    "plt.title(\"No. of LUTs per layer PE=SIMD=1\")\n",
    "plt.show()"
   ]
  },
  {
   "cell_type": "markdown",
   "metadata": {},
   "source": [
    "Since we identified above that the first layer takes the highest number of cycles to complete the execution, we will now try to adjust the folding parameters to reduce its latency at the expense of an increase in resource utilization."
   ]
  },
  {
   "cell_type": "markdown",
   "metadata": {},
   "source": [
    "## Modify Parameters\n",
    "\n",
    "We now modify the parallelization parameters of the first network layer to reduce its latency.\n",
    "We only extract the first `MVAU_hls` block from the model and set the parallelization parameters manually.\n",
    "\n",
    "In the first step, we left the `PE` & `SIMD` values for all the layers on default (=1) to establish a baseline and measure the estimated clock cycles and resource utilization for each of the individual layers.\n",
    "\n",
    "To set `PE` & `SIMD`, we will utilize functionality from the FINN compiler. Each layer type has a Python wrapper which can be instantiated using the `getCustomOp()` function. The wrapper offers several helper functions like `get_nodeattr()` and `set_nodeattr()` to access and set the attributes of a node."
   ]
  },
  {
   "cell_type": "code",
   "execution_count": 45,
   "metadata": {},
   "outputs": [
    {
     "name": "stdout",
     "output_type": "stream",
     "text": [
      "The parallelization parameters of MVAU_hls_2 were: \n",
      "PE: 1\n",
      "SIMD: 1\n",
      "The parallelization parameters of MVAU_hls_2 are updated to: \n",
      "PE: 4\n",
      "SIMD: 6\n"
     ]
    }
   ],
   "source": [
    "from qonnx.custom_op.registry import getCustomOp\n",
    "\n",
    "list_of_mvaus = model.get_nodes_by_op_type(\"MVAU_hls\")\n",
    "\n",
    "mvau2 = list_of_mvaus[2] #for the bottleneck MVAU_hls_1': 28.901.376\n",
    "\n",
    "mvau2_inst = getCustomOp(mvau2) #for the bottleneck MVAU_hls_1': 28.901.376\n",
    "\n",
    "# Get the node attributes to check the current setting\n",
    "print(\"The parallelization parameters of %s were: \" % mvau2.name)\n",
    "print(\"PE: \" + str(mvau2_inst.get_nodeattr(\"PE\")))\n",
    "print(\"SIMD: \" + str(mvau2_inst.get_nodeattr(\"SIMD\")))\n",
    "\n",
    "# Set the new node attributes\n",
    "mvau2_inst.set_nodeattr(\"PE\", 4) #for the bottleneck MVAU_hls_1' and MH % PE == 0\n",
    "mvau2_inst.set_nodeattr(\"SIMD\", 6) #for the bottleneck MVAU_hls_1' and MW % SIMD == 0 \n",
    "\n",
    "# Get the node attributes to check the updated setting\n",
    "\n",
    "print(\"The parallelization parameters of %s are updated to: \" % mvau2.name)\n",
    "print(\"PE: \" + str(mvau2_inst.get_nodeattr(\"PE\")))\n",
    "print(\"SIMD: \" + str(mvau2_inst.get_nodeattr(\"SIMD\")))"
   ]
  },
  {
   "cell_type": "code",
   "execution_count": 46,
   "metadata": {},
   "outputs": [],
   "source": [
    "mvau0 = list_of_mvaus[0]\n",
    "mvau1 = list_of_mvaus[1]\n",
    "mvau2 = list_of_mvaus[2]\n",
    "mvau3 = list_of_mvaus[3]\n",
    "mvau4 = list_of_mvaus[4]\n",
    "mvau5 = list_of_mvaus[5]\n",
    "mvau6 = list_of_mvaus[6]\n",
    "mvau7 = list_of_mvaus[7]\n",
    "\n",
    "mvau0_inst = getCustomOp(mvau0)\n",
    "mvau1_inst = getCustomOp(mvau1)\n",
    "mvau2_inst = getCustomOp(mvau2)\n",
    "mvau3_inst = getCustomOp(mvau3)\n",
    "mvau4_inst = getCustomOp(mvau4)\n",
    "mvau5_inst = getCustomOp(mvau5)\n",
    "mvau6_inst = getCustomOp(mvau6)\n",
    "mvau7_inst = getCustomOp(mvau7)\n",
    "\n",
    "mvau0_inst.set_nodeattr(\"PE\", 1) # MH % PE == 0\n",
    "mvau0_inst.set_nodeattr(\"SIMD\", 27) # MW % SIMD == 0 \n",
    "\n",
    "mvau1_inst.set_nodeattr(\"PE\", 8) # MH % PE == 0\n",
    "mvau1_inst.set_nodeattr(\"SIMD\", 72) # MW % SIMD == 0 \n",
    "\n",
    "mvau2_inst.set_nodeattr(\"PE\", 2) # MH % PE == 0\n",
    "mvau2_inst.set_nodeattr(\"SIMD\", 72) # MW % SIMD == 0 \n",
    "\n",
    "mvau3_inst.set_nodeattr(\"PE\", 4) # MH % PE == 0\n",
    "mvau3_inst.set_nodeattr(\"SIMD\", 72) # MW % SIMD == 0 \n",
    "\n",
    "mvau4_inst.set_nodeattr(\"PE\", 1) # MH % PE == 0\n",
    "mvau4_inst.set_nodeattr(\"SIMD\", 32) # MW % SIMD == 0 \n",
    "\n",
    "mvau5_inst.set_nodeattr(\"PE\", 2) # MH % PE == 0\n",
    "mvau5_inst.set_nodeattr(\"SIMD\", 4) # MW % SIMD == 0 \n",
    "\n",
    "mvau6_inst.set_nodeattr(\"PE\", 1) # MH % PE == 0\n",
    "mvau6_inst.set_nodeattr(\"SIMD\", 6) # MW % SIMD == 0 \n",
    "\n",
    "mvau7_inst.set_nodeattr(\"PE\", 1) # MH % PE == 0\n",
    "mvau7_inst.set_nodeattr(\"SIMD\", 1) # MW % SIMD == 0 "
   ]
  },
  {
   "cell_type": "markdown",
   "metadata": {},
   "source": [
    "We save the model and view it. On expanding the first `MVAU_hls` we can see the updated `PE` & `SIMD` parameters for that layer."
   ]
  },
  {
   "cell_type": "code",
   "execution_count": 47,
   "metadata": {},
   "outputs": [
    {
     "name": "stdout",
     "output_type": "stream",
     "text": [
      "Stopping http://0.0.0.0:8081\n",
      "Serving 'cybsec_PE_SIMD_modified.onnx' at http://0.0.0.0:8081\n"
     ]
    },
    {
     "data": {
      "text/html": [
       "\n",
       "        <iframe\n",
       "            width=\"100%\"\n",
       "            height=\"400\"\n",
       "            src=\"http://localhost:8081/\"\n",
       "            frameborder=\"0\"\n",
       "            allowfullscreen\n",
       "            \n",
       "        ></iframe>\n",
       "        "
      ],
      "text/plain": [
       "<IPython.lib.display.IFrame at 0x759ccbe69540>"
      ]
     },
     "execution_count": 47,
     "metadata": {},
     "output_type": "execute_result"
    }
   ],
   "source": [
    "model.save(\"cybsec_PE_SIMD_modified.onnx\")\n",
    "showInNetron(\"cybsec_PE_SIMD_modified.onnx\")"
   ]
  },
  {
   "cell_type": "markdown",
   "metadata": {},
   "source": [
    "From the above total folding formula, we have reduced the total folding of our layer from `600 x 64` to `120 x 32`. Hence, resulting in an estimated `10x` decrease in the execution latency of our layer. \n",
    "This can be observed in the new estimated clock cycles."
   ]
  },
  {
   "cell_type": "code",
   "execution_count": 48,
   "metadata": {},
   "outputs": [
    {
     "data": {
      "text/plain": [
       "{'ConvolutionInputGenerator_rtl_0': 8167,\n",
       " 'MVAU_hls_0': 57600,\n",
       " 'ConvolutionInputGenerator_rtl_1': 7119,\n",
       " 'MVAU_hls_1': 50176,\n",
       " 'StreamingMaxPool_hls_0': 980,\n",
       " 'ConvolutionInputGenerator_rtl_2': 1327,\n",
       " 'MVAU_hls_2': 73728,\n",
       " 'ConvolutionInputGenerator_rtl_3': 927,\n",
       " 'MVAU_hls_3': 51200,\n",
       " 'StreamingMaxPool_hls_1': 125,\n",
       " 'ConvolutionInputGenerator_rtl_4': 94,\n",
       " 'MVAU_hls_4': 82944,\n",
       " 'MVAU_hls_5': 147456,\n",
       " 'MVAU_hls_6': 43690,\n",
       " 'MVAU_hls_7': 5120}"
      ]
     },
     "execution_count": 48,
     "metadata": {},
     "output_type": "execute_result"
    }
   ],
   "source": [
    "cycles_dict_updated = model.analysis(exp_cycles_per_layer)\n",
    "cycles_dict_updated"
   ]
  },
  {
   "cell_type": "code",
   "execution_count": 49,
   "metadata": {},
   "outputs": [
    {
     "data": {
      "image/png": "[encoded data removed]",
      "text/plain": [
       "<Figure size 1000x500 with 1 Axes>"
      ]
     },
     "metadata": {},
     "output_type": "display_data"
    }
   ],
   "source": [
    "fig = plt.figure(figsize = (10, 5))\n",
    "plt.bar(cycles_dict_updated.keys(), cycles_dict_updated.values(), color ='blue', width = 0.3)\n",
    "plt.xlabel(\"Network layers\")\n",
    "plt.ylabel(\"Number of clock cycles\")\n",
    "plt.title(\"Clock cycles per layer with updated folding factors\")\n",
    "plt.show()"
   ]
  },
  {
   "cell_type": "markdown",
   "metadata": {},
   "source": [
    "This has of course consequences for the resource usage of the network."
   ]
  },
  {
   "cell_type": "code",
   "execution_count": 50,
   "metadata": {},
   "outputs": [
    {
     "data": {
      "text/plain": [
       "{'ConvolutionInputGenerator_rtl_0': {'BRAM_18K': 0,\n",
       "  'BRAM_efficiency': 1,\n",
       "  'LUT': 348,\n",
       "  'URAM': 0,\n",
       "  'URAM_efficiency': 1,\n",
       "  'DSP': 0},\n",
       " 'MVAU_hls_0': {'BRAM_18K': 2,\n",
       "  'BRAM_efficiency': 0.09375,\n",
       "  'LUT': 1789,\n",
       "  'URAM': 0,\n",
       "  'URAM_efficiency': 1,\n",
       "  'DSP': 0},\n",
       " 'ConvolutionInputGenerator_rtl_1': {'BRAM_18K': 0,\n",
       "  'BRAM_efficiency': 1,\n",
       "  'LUT': 556,\n",
       "  'URAM': 0,\n",
       "  'URAM_efficiency': 1,\n",
       "  'DSP': 0},\n",
       " 'MVAU_hls_1': {'BRAM_18K': 32,\n",
       "  'BRAM_efficiency': 0.125,\n",
       "  'LUT': 7982,\n",
       "  'URAM': 0,\n",
       "  'URAM_efficiency': 1,\n",
       "  'DSP': 0},\n",
       " 'StreamingMaxPool_hls_0': {'BRAM_18K': 0,\n",
       "  'BRAM_efficiency': 1,\n",
       "  'LUT': 0,\n",
       "  'URAM': 0,\n",
       "  'URAM_efficiency': 1,\n",
       "  'DSP': 0},\n",
       " 'ConvolutionInputGenerator_rtl_2': {'BRAM_18K': 0,\n",
       "  'BRAM_efficiency': 1,\n",
       "  'LUT': 428,\n",
       "  'URAM': 0,\n",
       "  'URAM_efficiency': 1,\n",
       "  'DSP': 0},\n",
       " 'MVAU_hls_2': {'BRAM_18K': 8,\n",
       "  'BRAM_efficiency': 1.0,\n",
       "  'LUT': 2220,\n",
       "  'URAM': 0,\n",
       "  'URAM_efficiency': 1,\n",
       "  'DSP': 0},\n",
       " 'ConvolutionInputGenerator_rtl_3': {'BRAM_18K': 0,\n",
       "  'BRAM_efficiency': 1,\n",
       "  'LUT': 556,\n",
       "  'URAM': 0,\n",
       "  'URAM_efficiency': 1,\n",
       "  'DSP': 0},\n",
       " 'MVAU_hls_3': {'BRAM_18K': 16,\n",
       "  'BRAM_efficiency': 1.0,\n",
       "  'LUT': 4145,\n",
       "  'URAM': 0,\n",
       "  'URAM_efficiency': 1,\n",
       "  'DSP': 0},\n",
       " 'StreamingMaxPool_hls_1': {'BRAM_18K': 0,\n",
       "  'BRAM_efficiency': 1,\n",
       "  'LUT': 0,\n",
       "  'URAM': 0,\n",
       "  'URAM_efficiency': 1,\n",
       "  'DSP': 0},\n",
       " 'ConvolutionInputGenerator_rtl_4': {'BRAM_18K': 0,\n",
       "  'BRAM_efficiency': 1,\n",
       "  'LUT': 556,\n",
       "  'URAM': 0,\n",
       "  'URAM_efficiency': 1,\n",
       "  'DSP': 0},\n",
       " 'MVAU_hls_4': {'BRAM_18K': 36,\n",
       "  'BRAM_efficiency': 0.8888888888888888,\n",
       "  'LUT': 733,\n",
       "  'URAM': 0,\n",
       "  'URAM_efficiency': 1,\n",
       "  'DSP': 0},\n",
       " 'MVAU_hls_5': {'BRAM_18K': 144,\n",
       "  'BRAM_efficiency': 0.8888888888888888,\n",
       "  'LUT': 429,\n",
       "  'URAM': 0,\n",
       "  'URAM_efficiency': 1,\n",
       "  'DSP': 0},\n",
       " 'MVAU_hls_6': {'BRAM_18K': 43,\n",
       "  'BRAM_efficiency': 0.661498708010336,\n",
       "  'LUT': 389,\n",
       "  'URAM': 0,\n",
       "  'URAM_efficiency': 1,\n",
       "  'DSP': 0},\n",
       " 'MVAU_hls_7': {'BRAM_18K': 1,\n",
       "  'BRAM_efficiency': 0.5555555555555556,\n",
       "  'LUT': 323,\n",
       "  'URAM': 0,\n",
       "  'URAM_efficiency': 1,\n",
       "  'DSP': 0}}"
      ]
     },
     "execution_count": 50,
     "metadata": {},
     "output_type": "execute_result"
    }
   ],
   "source": [
    "res_dict_updated = model.analysis(res_estimation)\n",
    "res_dict_updated"
   ]
  },
  {
   "cell_type": "code",
   "execution_count": 51,
   "metadata": {},
   "outputs": [
    {
     "data": {
      "image/png": "[encoded data removed]",
      "text/plain": [
       "<Figure size 1000x500 with 1 Axes>"
      ]
     },
     "metadata": {},
     "output_type": "display_data"
    }
   ],
   "source": [
    "# Extracting LUTs from res_dict\n",
    "LUTs_updated = [res_dict_updated[key][\"LUT\"] for key in res_dict_updated.keys()]   \n",
    "\n",
    "#Plotting the bar graph of each network layer with their corresponding LUT resource utilization\n",
    "fig = plt.figure(figsize = (10, 5))\n",
    "plt.bar(res_dict_updated.keys(), LUTs_updated, color ='green', width = 0.3)\n",
    "plt.xlabel(\"Network Layers\")\n",
    "plt.ylabel(\"LUT Utilisation\")\n",
    "plt.title(\"No. of LUTs per layer with updated folding factors\")\n",
    "plt.show()"
   ]
  },
  {
   "cell_type": "markdown",
   "metadata": {},
   "source": [
    "From these numbers, we see that the first layer has been removed as the bottleneck and that the entire network can now perform one inference in ~4096 clock cycles (when the pipeline is full) as compared to the earlier configuration where it took ~38400 execution cycles.\n",
    "\n",
    "This decrease in execution latency of the network though comes at a cost of a 45% increase in LUT resource utilization for the first layer of the network."
   ]
  },
  {
   "cell_type": "markdown",
   "metadata": {},
   "source": [
    "# Important Note : StreamingDataWidthConverters"
   ]
  },
  {
   "cell_type": "markdown",
   "metadata": {},
   "source": [
    "Next to resources and performance, folding factors (or parallelization parameters) are influencing also other properties of the generated design. Since we are able to generate results in parallel, the data that gets fed into the layer needs to be packed in a specific format to provide the correct data at the correct time for the internal parallelism. Also, the data that comes out of a layer will be in a specific format depending on the internal parallelism."
   ]
  },
  {
   "cell_type": "markdown",
   "metadata": {},
   "source": [
    "To analyze the influence of the folding factors on the data streams between layers, we first will import the original model (with `PE=SIMD=1`) and then we will import the updated model, so that we can compare the two of them."
   ]
  },
  {
   "cell_type": "code",
   "execution_count": 52,
   "metadata": {},
   "outputs": [
    {
     "ename": "AssertionError",
     "evalue": "File not found: /home/ba/Xilinx/finn-0v10/finn/notebooks/advanced/cybsec_PE_SIMD_named_nodes.onnx",
     "output_type": "error",
     "traceback": [
      "\u001b[0;31m---------------------------------------------------------------------------\u001b[0m",
      "\u001b[0;31mAssertionError\u001b[0m                            Traceback (most recent call last)",
      "Cell \u001b[0;32mIn[52], line 2\u001b[0m\n\u001b[1;32m      1\u001b[0m dir_path \u001b[38;5;241m=\u001b[39m os\u001b[38;5;241m.\u001b[39menviron[\u001b[38;5;124m\"\u001b[39m\u001b[38;5;124mFINN_ROOT\u001b[39m\u001b[38;5;124m\"\u001b[39m] \u001b[38;5;241m+\u001b[39m \u001b[38;5;124m\"\u001b[39m\u001b[38;5;124m/notebooks/advanced/\u001b[39m\u001b[38;5;124m\"\u001b[39m \n\u001b[0;32m----> 2\u001b[0m model_orig \u001b[38;5;241m=\u001b[39m \u001b[43mModelWrapper\u001b[49m\u001b[43m(\u001b[49m\u001b[43mdir_path\u001b[49m\u001b[43m \u001b[49m\u001b[38;5;241;43m+\u001b[39;49m\u001b[43m \u001b[49m\u001b[38;5;124;43m\"\u001b[39;49m\u001b[38;5;124;43mcybsec_PE_SIMD_named_nodes.onnx\u001b[39;49m\u001b[38;5;124;43m\"\u001b[39;49m\u001b[43m)\u001b[49m\n\u001b[1;32m      3\u001b[0m model_updated \u001b[38;5;241m=\u001b[39m ModelWrapper(\u001b[38;5;124m\"\u001b[39m\u001b[38;5;124mcybsec_PE_SIMD_modified.onnx\u001b[39m\u001b[38;5;124m\"\u001b[39m)\n",
      "File \u001b[0;32m/home/ba/Xilinx/finn-0v10/finn/deps/qonnx/src/qonnx/core/modelwrapper.py:61\u001b[0m, in \u001b[0;36mModelWrapper.__init__\u001b[0;34m(self, onnx_model_proto, make_deepcopy, fix_float64, fix_missing_initializer_valueinfo)\u001b[0m\n\u001b[1;32m     49\u001b[0m \u001b[38;5;250m\u001b[39m\u001b[38;5;124;03m\"\"\"Creates a ModelWrapper instance.\u001b[39;00m\n\u001b[1;32m     50\u001b[0m \u001b[38;5;124;03monnx_model_proto can be either a ModelProto instance, or a string\u001b[39;00m\n\u001b[1;32m     51\u001b[0m \u001b[38;5;124;03mwith the path to a stored .onnx file on disk, or serialized bytes.\u001b[39;00m\n\u001b[0;32m   (...)\u001b[0m\n\u001b[1;32m     58\u001b[0m \u001b[38;5;124;03minitializers that are missing theirs.\u001b[39;00m\n\u001b[1;32m     59\u001b[0m \u001b[38;5;124;03m\"\"\"\u001b[39;00m\n\u001b[1;32m     60\u001b[0m \u001b[38;5;28;01mif\u001b[39;00m \u001b[38;5;28misinstance\u001b[39m(onnx_model_proto, \u001b[38;5;28mstr\u001b[39m):\n\u001b[0;32m---> 61\u001b[0m     \u001b[38;5;28;01massert\u001b[39;00m os\u001b[38;5;241m.\u001b[39mpath\u001b[38;5;241m.\u001b[39misfile(onnx_model_proto), \u001b[38;5;124mf\u001b[39m\u001b[38;5;124m\"\u001b[39m\u001b[38;5;124mFile not found: \u001b[39m\u001b[38;5;132;01m{\u001b[39;00monnx_model_proto\u001b[38;5;132;01m}\u001b[39;00m\u001b[38;5;124m\"\u001b[39m\n\u001b[1;32m     62\u001b[0m     \u001b[38;5;28mself\u001b[39m\u001b[38;5;241m.\u001b[39m_model_proto \u001b[38;5;241m=\u001b[39m onnx\u001b[38;5;241m.\u001b[39mload(onnx_model_proto)\n\u001b[1;32m     63\u001b[0m \u001b[38;5;28;01melif\u001b[39;00m \u001b[38;5;28misinstance\u001b[39m(onnx_model_proto, \u001b[38;5;28mbytes\u001b[39m):\n",
      "\u001b[0;31mAssertionError\u001b[0m: File not found: /home/ba/Xilinx/finn-0v10/finn/notebooks/advanced/cybsec_PE_SIMD_named_nodes.onnx"
     ]
    }
   ],
   "source": [
    "dir_path = os.environ[\"FINN_ROOT\"] + \"/notebooks/advanced/\" \n",
    "model_orig = ModelWrapper(dir_path + \"cybsec_PE_SIMD_named_nodes.onnx\")\n",
    "model_updated = ModelWrapper(\"cybsec_PE_SIMD_modified.onnx\")"
   ]
  },
  {
   "cell_type": "markdown",
   "metadata": {},
   "source": [
    "In the next step we extract the information from all layers. For MVAUs the input shape is (1, MW/SIMD, SIMD) and the output shape is (1, MH/PE, PE)."
   ]
  },
  {
   "cell_type": "code",
   "execution_count": 22,
   "metadata": {},
   "outputs": [
    {
     "name": "stdout",
     "output_type": "stream",
     "text": [
      "In the original model (pe=simd=1): \n",
      "Layer: MVAU_hls_0\n",
      "Input shape: (1, 600, 1)\n",
      "Output shape: (1, 64, 1)\n",
      "Layer: MVAU_hls_1\n",
      "Input shape: (1, 64, 1)\n",
      "Output shape: (1, 64, 1)\n",
      "Layer: MVAU_hls_2\n",
      "Input shape: (1, 64, 1)\n",
      "Output shape: (1, 64, 1)\n",
      "Layer: MVAU_hls_3\n",
      "Input shape: (1, 64, 1)\n",
      "Output shape: (1, 1, 1)\n"
     ]
    }
   ],
   "source": [
    "# Original model\n",
    "list_of_mvaus = model_orig.get_nodes_by_op_type(\"MVAU_hls\")\n",
    "print(\"In the original model (pe=simd=1): \")\n",
    "for mvau in list_of_mvaus:\n",
    "    mvau_inst = getCustomOp(mvau)\n",
    "    print(\"Layer: \" + mvau.name)\n",
    "    print(\"Input shape: \" + str(mvau_inst.get_folded_input_shape()))\n",
    "    print(\"Output shape: \" + str(mvau_inst.get_folded_output_shape()))"
   ]
  },
  {
   "cell_type": "code",
   "execution_count": 23,
   "metadata": {},
   "outputs": [
    {
     "name": "stdout",
     "output_type": "stream",
     "text": [
      "In the original model (pe=simd=1): \n",
      "Layer: MVAU_hls_0\n",
      "Input shape: (1, 30, 30, 1, 27)\n",
      "Output shape: (1, 30, 30, 64, 1)\n",
      "Layer: MVAU_hls_1\n",
      "Input shape: (1, 28, 28, 8, 72)\n",
      "Output shape: (1, 28, 28, 8, 8)\n",
      "Layer: MVAU_hls_2\n",
      "Input shape: (1, 12, 12, 8, 72)\n",
      "Output shape: (1, 12, 12, 64, 2)\n",
      "Layer: MVAU_hls_3\n",
      "Input shape: (1, 10, 10, 16, 72)\n",
      "Output shape: (1, 10, 10, 32, 4)\n",
      "Layer: MVAU_hls_4\n",
      "Input shape: (1, 3, 3, 36, 32)\n",
      "Output shape: (1, 3, 3, 256, 1)\n",
      "Layer: MVAU_hls_5\n",
      "Input shape: (1, 576, 4)\n",
      "Output shape: (1, 256, 2)\n",
      "Layer: MVAU_hls_6\n",
      "Input shape: (1, 85, 6)\n",
      "Output shape: (1, 512, 1)\n",
      "Layer: MVAU_hls_7\n",
      "Input shape: (1, 512, 1)\n",
      "Output shape: (1, 10, 1)\n"
     ]
    }
   ],
   "source": [
    "# Updated model\n",
    "list_of_mvaus = model_updated.get_nodes_by_op_type(\"MVAU_hls\")\n",
    "print(\"In the original model (pe=simd=1): \")\n",
    "for mvau in list_of_mvaus:\n",
    "    mvau_inst = getCustomOp(mvau)\n",
    "    print(\"Layer: \" + mvau.name)\n",
    "    print(\"Input shape: \" + str(mvau_inst.get_folded_input_shape()))\n",
    "    print(\"Output shape: \" + str(mvau_inst.get_folded_output_shape()))"
   ]
  },
  {
   "cell_type": "markdown",
   "metadata": {},
   "source": [
    "We can see that the input and output shape for MVAU_hls_0 has changed after we have changed the folding factors. These changes have direct influence on the in/out stream width. We can have a closer look at the formula to calculate the stream width of an MVAU."
   ]
  },
  {
   "cell_type": "code",
   "execution_count": 24,
   "metadata": {},
   "outputs": [
    {
     "name": "stdout",
     "output_type": "stream",
     "text": [
      "    def get_instream_width(self, ind=0):\n",
      "        i_bits = self.get_input_datatype().bitwidth()\n",
      "        in_width = i_bits * self.get_nodeattr(\"SIMD\")\n",
      "        return in_width\n",
      "\n"
     ]
    }
   ],
   "source": [
    "showSrc(mvau_inst.get_instream_width)"
   ]
  },
  {
   "cell_type": "code",
   "execution_count": 25,
   "metadata": {},
   "outputs": [
    {
     "name": "stdout",
     "output_type": "stream",
     "text": [
      "    def get_outstream_width(self, ind=0):\n",
      "        o_bits = self.get_output_datatype().bitwidth()\n",
      "        out_width = o_bits * self.get_nodeattr(\"PE\")\n",
      "        return out_width\n",
      "\n"
     ]
    }
   ],
   "source": [
    "showSrc(mvau_inst.get_outstream_width)"
   ]
  },
  {
   "cell_type": "markdown",
   "metadata": {},
   "source": [
    "The input stream width can be calculated by multiplying the input bit width with SIMD and the output stream width can be calculated by multiplying the output bit width with PE."
   ]
  },
  {
   "cell_type": "markdown",
   "metadata": {},
   "source": [
    "To connect two layers with each other for the final design, the input stream width of a node needs to match the output stream width of the preceding node. If that is not the case FINN inserts DataWidthConverters (DWCs) to resolve this mismatch. Let's have a look at the input/output stream width of the layers before updating the parallelization parameters."
   ]
  },
  {
   "cell_type": "code",
   "execution_count": 26,
   "metadata": {},
   "outputs": [
    {
     "name": "stdout",
     "output_type": "stream",
     "text": [
      "In the original model (pe=simd=1): \n",
      "Layer: MVAU_hls_0\n",
      "Input stream width: 1\n",
      "Output stream width: 2\n",
      "Layer: MVAU_hls_1\n",
      "Input stream width: 2\n",
      "Output stream width: 2\n",
      "Layer: MVAU_hls_2\n",
      "Input stream width: 2\n",
      "Output stream width: 2\n",
      "Layer: MVAU_hls_3\n",
      "Input stream width: 2\n",
      "Output stream width: 1\n"
     ]
    }
   ],
   "source": [
    "# Original model\n",
    "list_of_mvaus = model_orig.get_nodes_by_op_type(\"MVAU_hls\")\n",
    "print(\"In the original model (pe=simd=1): \")\n",
    "for mvau in list_of_mvaus:\n",
    "    mvau_inst = getCustomOp(mvau)\n",
    "    print(\"Layer: \" + mvau.name)\n",
    "    print(\"Input stream width: \" + str(mvau_inst.get_instream_width()))\n",
    "    print(\"Output stream width: \" + str(mvau_inst.get_outstream_width()))"
   ]
  },
  {
   "cell_type": "markdown",
   "metadata": {},
   "source": [
    "In the original model the output stream width of one layer matches the input stream width of the following layer. So there would be no DWC required when generating the final design."
   ]
  },
  {
   "cell_type": "markdown",
   "metadata": {},
   "source": [
    "For the updated model, the situation is different. Let's have a look how the stream widths have changed."
   ]
  },
  {
   "cell_type": "code",
   "execution_count": 28,
   "metadata": {},
   "outputs": [
    {
     "name": "stdout",
     "output_type": "stream",
     "text": [
      "In the original model (pe=simd=1): \n",
      "Layer: MVAU_hls_0\n",
      "Input stream width: 216\n",
      "Output stream width: 1\n",
      "Layer: MVAU_hls_1\n",
      "Input stream width: 72\n",
      "Output stream width: 8\n",
      "Layer: MVAU_hls_2\n",
      "Input stream width: 72\n",
      "Output stream width: 2\n",
      "Layer: MVAU_hls_3\n",
      "Input stream width: 72\n",
      "Output stream width: 4\n",
      "Layer: MVAU_hls_4\n",
      "Input stream width: 32\n",
      "Output stream width: 1\n",
      "Layer: MVAU_hls_5\n",
      "Input stream width: 4\n",
      "Output stream width: 2\n",
      "Layer: MVAU_hls_6\n",
      "Input stream width: 6\n",
      "Output stream width: 1\n",
      "Layer: MVAU_hls_7\n",
      "Input stream width: 1\n",
      "Output stream width: 32\n"
     ]
    }
   ],
   "source": [
    "# Updated model\n",
    "list_of_mvaus = model_updated.get_nodes_by_op_type(\"MVAU_hls\")\n",
    "print(\"In the original model (pe=simd=1): \")\n",
    "for mvau in list_of_mvaus:\n",
    "    mvau_inst = getCustomOp(mvau)\n",
    "    print(\"Layer: \" + mvau.name)\n",
    "    print(\"Input stream width: \" + str(mvau_inst.get_instream_width()))\n",
    "    print(\"Output stream width: \" + str(mvau_inst.get_outstream_width()))"
   ]
  },
  {
   "cell_type": "markdown",
   "metadata": {},
   "source": [
    "As we can see, the output stream width of MVAU_hls_0 has now changed to `4`, while the input stream width of MatrixVectorActivation_1 stayed `2`. So, the FINN compiler would insert a DWC between these nodes, we can manually invoke this behavior by first calling the transformation `InsertDWC` and then converting the resulting DWCs into an HLS or RTL variant by calling `SpecializeLayers`."
   ]
  },
  {
   "cell_type": "code",
   "execution_count": 29,
   "metadata": {},
   "outputs": [],
   "source": [
    "from finn.transformation.fpgadataflow.insert_dwc import InsertDWC\n",
    "from finn.transformation.fpgadataflow.specialize_layers import SpecializeLayers\n",
    "\n",
    "model_updated = model_updated.transform(InsertDWC())\n",
    "model_updated = model_updated.transform(SpecializeLayers())\n",
    "model_updated = model_updated.transform(GiveUniqueNodeNames())"
   ]
  },
  {
   "cell_type": "code",
   "execution_count": 30,
   "metadata": {},
   "outputs": [
    {
     "name": "stdout",
     "output_type": "stream",
     "text": [
      "Stopping http://0.0.0.0:8081\n",
      "Serving 'cybsec_DWC.onnx' at http://0.0.0.0:8081\n"
     ]
    },
    {
     "data": {
      "text/html": [
       "\n",
       "        <iframe\n",
       "            width=\"100%\"\n",
       "            height=\"400\"\n",
       "            src=\"http://localhost:8081/\"\n",
       "            frameborder=\"0\"\n",
       "            allowfullscreen\n",
       "            \n",
       "        ></iframe>\n",
       "        "
      ],
      "text/plain": [
       "<IPython.lib.display.IFrame at 0x782689630130>"
      ]
     },
     "execution_count": 30,
     "metadata": {},
     "output_type": "execute_result"
    }
   ],
   "source": [
    "model_updated.save(\"cybsec_DWC.onnx\")\n",
    "showInNetron(\"cybsec_DWC.onnx\")"
   ]
  },
  {
   "cell_type": "markdown",
   "metadata": {},
   "source": [
    "We can observe in the model that a DWC was inserted between the first two layers.\n",
    "Since the DWC will also be a hardware block in our final FINN design, it has a latency and resources associated with it. Let's have a final look in our resource estimates."
   ]
  },
  {
   "cell_type": "code",
   "execution_count": 31,
   "metadata": {},
   "outputs": [
    {
     "data": {
      "text/plain": [
       "{'Thresholding_rtl_0': {'BRAM_18K': 0,\n",
       "  'BRAM_efficiency': 1,\n",
       "  'LUT': 128.0,\n",
       "  'URAM': 0,\n",
       "  'URAM_efficiency': 1,\n",
       "  'DSP': 0},\n",
       " 'StreamingDataWidthConverter_rtl_0': {'BRAM_18K': 0,\n",
       "  'BRAM_efficiency': 1,\n",
       "  'LUT': 25,\n",
       "  'URAM': 0,\n",
       "  'URAM_efficiency': 1,\n",
       "  'DSP': 0},\n",
       " 'ConvolutionInputGenerator_rtl_0': {'BRAM_18K': 0,\n",
       "  'BRAM_efficiency': 1,\n",
       "  'LUT': 348,\n",
       "  'URAM': 0,\n",
       "  'URAM_efficiency': 1,\n",
       "  'DSP': 0},\n",
       " 'StreamingDataWidthConverter_rtl_1': {'BRAM_18K': 0,\n",
       "  'BRAM_efficiency': 1,\n",
       "  'LUT': 219,\n",
       "  'URAM': 0,\n",
       "  'URAM_efficiency': 1,\n",
       "  'DSP': 0},\n",
       " 'MVAU_hls_0': {'BRAM_18K': 1,\n",
       "  'BRAM_efficiency': 0.09375,\n",
       "  'LUT': 1640,\n",
       "  'URAM': 0,\n",
       "  'URAM_efficiency': 1,\n",
       "  'DSP': 0},\n",
       " 'StreamingDataWidthConverter_rtl_2': {'BRAM_18K': 0,\n",
       "  'BRAM_efficiency': 1,\n",
       "  'LUT': 70,\n",
       "  'URAM': 0,\n",
       "  'URAM_efficiency': 1,\n",
       "  'DSP': 0},\n",
       " 'ConvolutionInputGenerator_rtl_1': {'BRAM_18K': 0,\n",
       "  'BRAM_efficiency': 1,\n",
       "  'LUT': 428,\n",
       "  'URAM': 0,\n",
       "  'URAM_efficiency': 1,\n",
       "  'DSP': 0},\n",
       " 'StreamingDataWidthConverter_hls_0': {'BRAM_18K': 0,\n",
       "  'BRAM_efficiency': 1,\n",
       "  'LUT': 654,\n",
       "  'URAM': 0,\n",
       "  'URAM_efficiency': 1,\n",
       "  'DSP': 0},\n",
       " 'MVAU_hls_1': {'BRAM_18K': 16,\n",
       "  'BRAM_efficiency': 0.125,\n",
       "  'LUT': 4189,\n",
       "  'URAM': 0,\n",
       "  'URAM_efficiency': 1,\n",
       "  'DSP': 0},\n",
       " 'StreamingDataWidthConverter_rtl_3': {'BRAM_18K': 0,\n",
       "  'BRAM_efficiency': 1,\n",
       "  'LUT': 67,\n",
       "  'URAM': 0,\n",
       "  'URAM_efficiency': 1,\n",
       "  'DSP': 0},\n",
       " 'StreamingMaxPool_hls_0': {'BRAM_18K': 0,\n",
       "  'BRAM_efficiency': 1,\n",
       "  'LUT': 0,\n",
       "  'URAM': 0,\n",
       "  'URAM_efficiency': 1,\n",
       "  'DSP': 0},\n",
       " 'ConvolutionInputGenerator_rtl_2': {'BRAM_18K': 0,\n",
       "  'BRAM_efficiency': 1,\n",
       "  'LUT': 364,\n",
       "  'URAM': 0,\n",
       "  'URAM_efficiency': 1,\n",
       "  'DSP': 0},\n",
       " 'StreamingDataWidthConverter_hls_1': {'BRAM_18K': 0,\n",
       "  'BRAM_efficiency': 1,\n",
       "  'LUT': 654,\n",
       "  'URAM': 0,\n",
       "  'URAM_efficiency': 1,\n",
       "  'DSP': 0},\n",
       " 'MVAU_hls_2': {'BRAM_18K': 4,\n",
       "  'BRAM_efficiency': 1.0,\n",
       "  'LUT': 1272,\n",
       "  'URAM': 0,\n",
       "  'URAM_efficiency': 1,\n",
       "  'DSP': 0},\n",
       " 'StreamingDataWidthConverter_rtl_4': {'BRAM_18K': 0,\n",
       "  'BRAM_efficiency': 1,\n",
       "  'LUT': 134,\n",
       "  'URAM': 0,\n",
       "  'URAM_efficiency': 1,\n",
       "  'DSP': 0},\n",
       " 'ConvolutionInputGenerator_rtl_3': {'BRAM_18K': 0,\n",
       "  'BRAM_efficiency': 1,\n",
       "  'LUT': 428,\n",
       "  'URAM': 0,\n",
       "  'URAM_efficiency': 1,\n",
       "  'DSP': 0},\n",
       " 'StreamingDataWidthConverter_hls_2': {'BRAM_18K': 0,\n",
       "  'BRAM_efficiency': 1,\n",
       "  'LUT': 1231,\n",
       "  'URAM': 0,\n",
       "  'URAM_efficiency': 1,\n",
       "  'DSP': 0},\n",
       " 'MVAU_hls_3': {'BRAM_18K': 8,\n",
       "  'BRAM_efficiency': 1.0,\n",
       "  'LUT': 2249,\n",
       "  'URAM': 0,\n",
       "  'URAM_efficiency': 1,\n",
       "  'DSP': 0},\n",
       " 'StreamingDataWidthConverter_rtl_5': {'BRAM_18K': 0,\n",
       "  'BRAM_efficiency': 1,\n",
       "  'LUT': 133,\n",
       "  'URAM': 0,\n",
       "  'URAM_efficiency': 1,\n",
       "  'DSP': 0},\n",
       " 'StreamingMaxPool_hls_1': {'BRAM_18K': 0,\n",
       "  'BRAM_efficiency': 1,\n",
       "  'LUT': 0,\n",
       "  'URAM': 0,\n",
       "  'URAM_efficiency': 1,\n",
       "  'DSP': 0},\n",
       " 'ConvolutionInputGenerator_rtl_4': {'BRAM_18K': 0,\n",
       "  'BRAM_efficiency': 1,\n",
       "  'LUT': 428,\n",
       "  'URAM': 0,\n",
       "  'URAM_efficiency': 1,\n",
       "  'DSP': 0},\n",
       " 'StreamingDataWidthConverter_rtl_6': {'BRAM_18K': 0,\n",
       "  'BRAM_efficiency': 1,\n",
       "  'LUT': 34,\n",
       "  'URAM': 0,\n",
       "  'URAM_efficiency': 1,\n",
       "  'DSP': 0},\n",
       " 'MVAU_hls_4': {'BRAM_18K': 18,\n",
       "  'BRAM_efficiency': 0.8888888888888888,\n",
       "  'LUT': 523,\n",
       "  'URAM': 0,\n",
       "  'URAM_efficiency': 1,\n",
       "  'DSP': 0},\n",
       " 'StreamingDataWidthConverter_rtl_7': {'BRAM_18K': 0,\n",
       "  'BRAM_efficiency': 1,\n",
       "  'LUT': 6,\n",
       "  'URAM': 0,\n",
       "  'URAM_efficiency': 1,\n",
       "  'DSP': 0},\n",
       " 'MVAU_hls_5': {'BRAM_18K': 72,\n",
       "  'BRAM_efficiency': 0.8888888888888888,\n",
       "  'LUT': 379,\n",
       "  'URAM': 0,\n",
       "  'URAM_efficiency': 1,\n",
       "  'DSP': 0},\n",
       " 'StreamingDataWidthConverter_rtl_8': {'BRAM_18K': 0,\n",
       "  'BRAM_efficiency': 1,\n",
       "  'LUT': 7,\n",
       "  'URAM': 0,\n",
       "  'URAM_efficiency': 1,\n",
       "  'DSP': 0},\n",
       " 'MVAU_hls_6': {'BRAM_18K': 22,\n",
       "  'BRAM_efficiency': 0.6464646464646465,\n",
       "  'LUT': 350,\n",
       "  'URAM': 0,\n",
       "  'URAM_efficiency': 1,\n",
       "  'DSP': 0},\n",
       " 'MVAU_hls_7': {'BRAM_18K': 1,\n",
       "  'BRAM_efficiency': 0.2777777777777778,\n",
       "  'LUT': 317,\n",
       "  'URAM': 0,\n",
       "  'URAM_efficiency': 1,\n",
       "  'DSP': 0},\n",
       " 'LabelSelect_hls_0': {'BRAM_18K': 0,\n",
       "  'BRAM_efficiency': 1,\n",
       "  'LUT': 0,\n",
       "  'URAM': 0,\n",
       "  'URAM_efficiency': 1,\n",
       "  'DSP': 0}}"
      ]
     },
     "execution_count": 31,
     "metadata": {},
     "output_type": "execute_result"
    }
   ],
   "source": [
    "model_dwc = ModelWrapper(\"cybsec_DWC.onnx\")\n",
    "res_dict_dwc = model_dwc.analysis(res_estimation)\n",
    "res_dict_dwc"
   ]
  },
  {
   "cell_type": "markdown",
   "metadata": {},
   "source": [
    "Since we have now one additional layer, we manipulate the data to shorten the layer names in the plot."
   ]
  },
  {
   "cell_type": "code",
   "execution_count": 71,
   "metadata": {},
   "outputs": [],
   "source": [
    "layers = res_dict_dwc.keys()\n",
    "# replace names of layers with abbreviations\n",
    "layers = [n.replace(\"StreamingDataWidthConverter_Batch\", \"DWC\") for n in layers]"
   ]
  },
  {
   "cell_type": "code",
   "execution_count": 72,
   "metadata": {},
   "outputs": [
    {
     "data": {
      "image/png": "[encoded data removed]",
      "text/plain": [
       "<Figure size 1000x500 with 1 Axes>"
      ]
     },
     "metadata": {},
     "output_type": "display_data"
    }
   ],
   "source": [
    "# Extracting LUTs from res_dict\n",
    "LUTs_dwc = [res_dict_dwc[key][\"LUT\"] for key in res_dict_dwc.keys()]   \n",
    "\n",
    "#Plotting the bar graph of each network layer with their corresponding LUT resource utilization\n",
    "fig = plt.figure(figsize = (10, 5))\n",
    "plt.bar(layers, LUTs_dwc, color ='red', width = 0.3)\n",
    "plt.xlabel(\"Network Layers\")\n",
    "plt.ylabel(\"LUT Utilisation\")\n",
    "plt.title(\"Estimated LUT values used for each network layer\")\n",
    "plt.show()"
   ]
  },
  {
   "cell_type": "markdown",
   "metadata": {},
   "source": [
    "In the case of our example network, the `StreamingDataWidthConverter_Batch` layer does not consume a large number of LUT resources as shown in the graph. This might be different for larger models and if there are a higher number of DWCs inserted. Please be aware of this when setting the folding factors for your network."
   ]
  },
  {
   "cell_type": "code",
   "execution_count": null,
   "metadata": {},
   "outputs": [],
   "source": []
  },
  {
   "cell_type": "code",
   "execution_count": null,
   "metadata": {},
   "outputs": [],
   "source": []
  }
 ],
 "metadata": {
  "kernelspec": {
   "display_name": "Python 3 (ipykernel)",
   "language": "python",
   "name": "python3"
  },
  "language_info": {
   "codemirror_mode": {
    "name": "ipython",
    "version": 3
   },
   "file_extension": ".py",
   "mimetype": "text/x-python",
   "name": "python",
   "nbconvert_exporter": "python",
   "pygments_lexer": "ipython3",
   "version": "3.10.12"
  }
 },
 "nbformat": 4,
 "nbformat_minor": 4
}
